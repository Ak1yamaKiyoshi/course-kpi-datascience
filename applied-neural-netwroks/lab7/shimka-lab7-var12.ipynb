{
  "metadata": {
    "kernelspec": {
      "display_name": "Python 3",
      "name": "python3"
    },
    "language_info": {
      "name": "python",
      "version": "3.7.12",
      "mimetype": "text/x-python",
      "codemirror_mode": {
        "name": "ipython",
        "version": 3
      },
      "pygments_lexer": "ipython3",
      "nbconvert_exporter": "python",
      "file_extension": ".py"
    },
    "kaggle": {
      "accelerator": "gpu",
      "dataSources": [
        {
          "sourceId": 3603961,
          "sourceType": "datasetVersion",
          "datasetId": 2078159
        }
      ],
      "dockerImageVersionId": 30192,
      "isInternetEnabled": true,
      "language": "python",
      "sourceType": "notebook",
      "isGpuEnabled": true
    },
    "colab": {
      "name": "🏪Binary Text Classification Yelp Reviews 90% LSTM",
      "provenance": [],
      "machine_shape": "hm",
      "gpuType": "V100"
    },
    "accelerator": "GPU"
  },
  "nbformat_minor": 0,
  "nbformat": 4,
  "cells": [
    {
      "source": [
        "\n",
        "# IMPORTANT: RUN THIS CELL IN ORDER TO IMPORT YOUR KAGGLE DATA SOURCES\n",
        "# TO THE CORRECT LOCATION (/kaggle/input) IN YOUR NOTEBOOK,\n",
        "# THEN FEEL FREE TO DELETE THIS CELL.\n",
        "# NOTE: THIS NOTEBOOK ENVIRONMENT DIFFERS FROM KAGGLE'S PYTHON\n",
        "# ENVIRONMENT SO THERE MAY BE MISSING LIBRARIES USED BY YOUR\n",
        "# NOTEBOOK.\n",
        "\n",
        "import os\n",
        "import sys\n",
        "from tempfile import NamedTemporaryFile\n",
        "from urllib.request import urlopen\n",
        "from urllib.parse import unquote, urlparse\n",
        "from urllib.error import HTTPError\n",
        "from zipfile import ZipFile\n",
        "import tarfile\n",
        "import shutil\n",
        "\n",
        "CHUNK_SIZE = 40960\n",
        "DATA_SOURCE_MAPPING = 'yelp-reviews-for-sentianalysis-binary-np-csv:https%3A%2F%2Fstorage.googleapis.com%2Fkaggle-data-sets%2F2078159%2F3603961%2Fbundle%2Farchive.zip%3FX-Goog-Algorithm%3DGOOG4-RSA-SHA256%26X-Goog-Credential%3Dgcp-kaggle-com%2540kaggle-161607.iam.gserviceaccount.com%252F20240430%252Fauto%252Fstorage%252Fgoog4_request%26X-Goog-Date%3D20240430T173613Z%26X-Goog-Expires%3D259200%26X-Goog-SignedHeaders%3Dhost%26X-Goog-Signature%3D971eab64f876d776fcfbe33162c6c89629562f1d9a51c7ad03adefd3ebedad79c495c89d59acf6ce374c6372854496ef27851aa0af476884d7911759261b850b12d0c81c4e6404e74fa0b50ad0de42155693101dcdeda6c36f271326cb1f70d9f856ecf7400b180aff33fdcec754f535aec5c6c703ee0b4471204c4b0d35193a69b4b427e683605553a8565972a57ad236534f07a7aec32a3113a28cb04b2001ec70978765cfe050b688487b316183d75a439525e8f66454c60bfab092f59fe3a94164e0ece69dd0dc1c1f2ca8427e692bd1b472f1230c8a957dc0b61058810dd34b6d0d7abe8725a3bf1ccf217197bab4598bdbcff1a8ada8fe43c0b2361457'\n",
        "\n",
        "KAGGLE_INPUT_PATH='/kaggle/input'\n",
        "KAGGLE_WORKING_PATH='/kaggle/working'\n",
        "KAGGLE_SYMLINK='kaggle'\n",
        "\n",
        "!umount /kaggle/input/ 2> /dev/null\n",
        "shutil.rmtree('/kaggle/input', ignore_errors=True)\n",
        "os.makedirs(KAGGLE_INPUT_PATH, 0o777, exist_ok=True)\n",
        "os.makedirs(KAGGLE_WORKING_PATH, 0o777, exist_ok=True)\n",
        "\n",
        "try:\n",
        "  os.symlink(KAGGLE_INPUT_PATH, os.path.join(\"..\", 'input'), target_is_directory=True)\n",
        "except FileExistsError:\n",
        "  pass\n",
        "try:\n",
        "  os.symlink(KAGGLE_WORKING_PATH, os.path.join(\"..\", 'working'), target_is_directory=True)\n",
        "except FileExistsError:\n",
        "  pass\n",
        "\n",
        "for data_source_mapping in DATA_SOURCE_MAPPING.split(','):\n",
        "    directory, download_url_encoded = data_source_mapping.split(':')\n",
        "    download_url = unquote(download_url_encoded)\n",
        "    filename = urlparse(download_url).path\n",
        "    destination_path = os.path.join(KAGGLE_INPUT_PATH, directory)\n",
        "    try:\n",
        "        with urlopen(download_url) as fileres, NamedTemporaryFile() as tfile:\n",
        "            total_length = fileres.headers['content-length']\n",
        "            print(f'Downloading {directory}, {total_length} bytes compressed')\n",
        "            dl = 0\n",
        "            data = fileres.read(CHUNK_SIZE)\n",
        "            while len(data) > 0:\n",
        "                dl += len(data)\n",
        "                tfile.write(data)\n",
        "                done = int(50 * dl / int(total_length))\n",
        "                sys.stdout.write(f\"\\r[{'=' * done}{' ' * (50-done)}] {dl} bytes downloaded\")\n",
        "                sys.stdout.flush()\n",
        "                data = fileres.read(CHUNK_SIZE)\n",
        "            if filename.endswith('.zip'):\n",
        "              with ZipFile(tfile) as zfile:\n",
        "                zfile.extractall(destination_path)\n",
        "            else:\n",
        "              with tarfile.open(tfile.name) as tarfile:\n",
        "                tarfile.extractall(destination_path)\n",
        "            print(f'\\nDownloaded and uncompressed: {directory}')\n",
        "    except HTTPError as e:\n",
        "        print(f'Failed to load (likely expired) {download_url} to path {destination_path}')\n",
        "        continue\n",
        "    except OSError as e:\n",
        "        print(f'Failed to load {download_url} to path {destination_path}')\n",
        "        continue\n",
        "\n",
        "print('Data source import complete.')\n"
      ],
      "metadata": {
        "colab": {
          "base_uri": "https://localhost:8080/"
        },
        "id": "nn_e7IqGFCAb",
        "outputId": "3a23201c-3e58-4a6b-d035-f450b4cddcc3"
      },
      "cell_type": "code",
      "outputs": [
        {
          "output_type": "stream",
          "name": "stdout",
          "text": [
            "Downloading yelp-reviews-for-sentianalysis-binary-np-csv, 169583717 bytes compressed\n",
            "[==================================================] 169583717 bytes downloaded\n",
            "Downloaded and uncompressed: yelp-reviews-for-sentianalysis-binary-np-csv\n",
            "Data source import complete.\n"
          ]
        }
      ],
      "execution_count": 1
    },
    {
      "cell_type": "markdown",
      "source": [],
      "metadata": {
        "id": "Y26xZPjjFCAe"
      }
    },
    {
      "cell_type": "markdown",
      "source": [
        "# 1. Download and Imports"
      ],
      "metadata": {
        "id": "fYOKdFssFCAf"
      }
    },
    {
      "cell_type": "code",
      "source": [
        "!pip install contractions\n",
        "!pip install textsearch\n",
        "!pip install tqdm\n",
        "import nltk\n",
        "nltk.download('punkt')"
      ],
      "metadata": {
        "_uuid": "8f2839f25d086af736a60e9eeb907d3b93b6e0e5",
        "_cell_guid": "b1076dfc-b9ad-4769-8c92-a6c4dae69d19",
        "execution": {
          "iopub.status.busy": "2024-04-29T23:28:10.444888Z",
          "iopub.execute_input": "2024-04-29T23:28:10.445147Z",
          "iopub.status.idle": "2024-04-29T23:28:45.501849Z",
          "shell.execute_reply.started": "2024-04-29T23:28:10.445074Z",
          "shell.execute_reply": "2024-04-29T23:28:45.501108Z"
        },
        "trusted": true,
        "colab": {
          "base_uri": "https://localhost:8080/"
        },
        "id": "jJT5kygtFCAg",
        "outputId": "4944870f-f8d2-435e-a616-ae805dfb8853"
      },
      "execution_count": 2,
      "outputs": [
        {
          "output_type": "stream",
          "name": "stdout",
          "text": [
            "Collecting contractions\n",
            "  Downloading contractions-0.1.73-py2.py3-none-any.whl (8.7 kB)\n",
            "Collecting textsearch>=0.0.21 (from contractions)\n",
            "  Downloading textsearch-0.0.24-py2.py3-none-any.whl (7.6 kB)\n",
            "Collecting anyascii (from textsearch>=0.0.21->contractions)\n",
            "  Downloading anyascii-0.3.2-py3-none-any.whl (289 kB)\n",
            "\u001b[2K     \u001b[90m━━━━━━━━━━━━━━━━━━━━━━━━━━━━━━━━━━━━━━━━\u001b[0m \u001b[32m289.9/289.9 kB\u001b[0m \u001b[31m4.6 MB/s\u001b[0m eta \u001b[36m0:00:00\u001b[0m\n",
            "\u001b[?25hCollecting pyahocorasick (from textsearch>=0.0.21->contractions)\n",
            "  Downloading pyahocorasick-2.1.0-cp310-cp310-manylinux_2_5_x86_64.manylinux1_x86_64.manylinux_2_12_x86_64.manylinux2010_x86_64.whl (110 kB)\n",
            "\u001b[2K     \u001b[90m━━━━━━━━━━━━━━━━━━━━━━━━━━━━━━━━━━━━━━━━\u001b[0m \u001b[32m110.7/110.7 kB\u001b[0m \u001b[31m5.4 MB/s\u001b[0m eta \u001b[36m0:00:00\u001b[0m\n",
            "\u001b[?25hInstalling collected packages: pyahocorasick, anyascii, textsearch, contractions\n",
            "Successfully installed anyascii-0.3.2 contractions-0.1.73 pyahocorasick-2.1.0 textsearch-0.0.24\n",
            "Requirement already satisfied: textsearch in /usr/local/lib/python3.10/dist-packages (0.0.24)\n",
            "Requirement already satisfied: anyascii in /usr/local/lib/python3.10/dist-packages (from textsearch) (0.3.2)\n",
            "Requirement already satisfied: pyahocorasick in /usr/local/lib/python3.10/dist-packages (from textsearch) (2.1.0)\n",
            "Requirement already satisfied: tqdm in /usr/local/lib/python3.10/dist-packages (4.66.2)\n"
          ]
        },
        {
          "output_type": "stream",
          "name": "stderr",
          "text": [
            "[nltk_data] Downloading package punkt to /root/nltk_data...\n",
            "[nltk_data]   Unzipping tokenizers/punkt.zip.\n"
          ]
        },
        {
          "output_type": "execute_result",
          "data": {
            "text/plain": [
              "True"
            ]
          },
          "metadata": {},
          "execution_count": 2
        }
      ]
    },
    {
      "cell_type": "code",
      "source": [
        "#Tensorflow and Keras and sklearn\n",
        "import tensorflow as tf\n",
        "import pandas as pd\n",
        "import numpy as np\n",
        "from tensorflow.keras.models import Sequential\n",
        "from tensorflow.keras.layers import Dense\n",
        "from tensorflow.keras.layers import Dropout\n",
        "from tensorflow.keras.layers import Flatten\n",
        "from tensorflow.keras.layers import Conv1D\n",
        "from tensorflow.keras.layers import MaxPooling1D\n",
        "from tensorflow.keras.layers import Embedding\n",
        "from tensorflow.keras.layers import LSTM\n",
        "from tensorflow.keras.preprocessing.text import Tokenizer\n",
        "from tensorflow.keras.preprocessing import sequence\n",
        "from sklearn.preprocessing import LabelEncoder\n",
        "\n",
        "#Charts\n",
        "from sklearn import metrics\n",
        "from sklearn.metrics import f1_score, accuracy_score,confusion_matrix,classification_report\n",
        "import matplotlib.pyplot as plt\n",
        "import seaborn as sns\n",
        "\n",
        "# Time\n",
        "import time\n",
        "import datetime\n",
        "\n",
        "#Performance Plot\n",
        "import contractions\n",
        "from bs4 import BeautifulSoup\n",
        "import numpy as np\n",
        "import re\n",
        "import tqdm\n",
        "import unicodedata\n",
        "\n",
        "%matplotlib inline\n",
        "\n",
        "# fix random seed for reproducibility\n",
        "seed = 3541\n",
        "np.random.seed(seed)"
      ],
      "metadata": {
        "execution": {
          "iopub.status.busy": "2024-04-29T23:28:45.503458Z",
          "iopub.execute_input": "2024-04-29T23:28:45.50371Z",
          "iopub.status.idle": "2024-04-29T23:28:51.004187Z",
          "shell.execute_reply.started": "2024-04-29T23:28:45.503675Z",
          "shell.execute_reply": "2024-04-29T23:28:51.003393Z"
        },
        "trusted": true,
        "id": "W_ZFOOs8FCAh"
      },
      "execution_count": 3,
      "outputs": []
    },
    {
      "cell_type": "markdown",
      "source": [
        "# 2. Functions"
      ],
      "metadata": {
        "id": "P8RUNrn3FCAj"
      }
    },
    {
      "cell_type": "code",
      "source": [
        "import matplotlib.pyplot as plt\n",
        "\n",
        "\n",
        "def plot_graphs(history, metric):\n",
        "    plt.plot(history.history[metric])\n",
        "    plt.plot(history.history['val_'+metric], '')\n",
        "    plt.xlabel(\"Epochs\")\n",
        "    plt.ylabel(metric)\n",
        "    plt.legend([metric, 'val_'+metric])"
      ],
      "metadata": {
        "execution": {
          "iopub.status.busy": "2024-04-29T23:28:51.005273Z",
          "iopub.execute_input": "2024-04-29T23:28:51.00547Z",
          "iopub.status.idle": "2024-04-29T23:28:51.010689Z",
          "shell.execute_reply.started": "2024-04-29T23:28:51.005445Z",
          "shell.execute_reply": "2024-04-29T23:28:51.00982Z"
        },
        "trusted": true,
        "id": "m7X3tZLcFCAk"
      },
      "execution_count": 4,
      "outputs": []
    },
    {
      "cell_type": "code",
      "source": [
        "# date_time function\n",
        "\n",
        "def date_time(x):\n",
        "    if x==1:\n",
        "        return 'Timestamp: {:%Y-%m-%d %H:%M:%S}'.format(datetime.datetime.now())\n",
        "    if x==2:\n",
        "        return 'Timestamp: {:%Y-%b-%d %H:%M:%S}'.format(datetime.datetime.now())\n",
        "    if x==3:\n",
        "        return 'Date now: %s' % datetime.datetime.now()\n",
        "    if x==4:\n",
        "        return 'Date today: %s' % datetime.date.today()"
      ],
      "metadata": {
        "execution": {
          "iopub.status.busy": "2024-04-29T23:28:51.012679Z",
          "iopub.execute_input": "2024-04-29T23:28:51.013511Z",
          "iopub.status.idle": "2024-04-29T23:28:51.025683Z",
          "shell.execute_reply.started": "2024-04-29T23:28:51.013472Z",
          "shell.execute_reply": "2024-04-29T23:28:51.025052Z"
        },
        "trusted": true,
        "id": "ZSsvk8KSFCAl"
      },
      "execution_count": 5,
      "outputs": []
    },
    {
      "cell_type": "code",
      "source": [
        "# Performance Plot\n",
        "\n",
        "def plot_performance(history=None, figure_directory=None, ylim_pad=[0, 0]):\n",
        "    xlabel = 'Epoch'\n",
        "    legends = ['Training', 'Validation']\n",
        "\n",
        "    plt.figure(figsize=(20, 5))\n",
        "\n",
        "    y1 = history.history['accuracy']\n",
        "    y2 = history.history['val_accuracy']\n",
        "\n",
        "    min_y = min(min(y1), min(y2))-ylim_pad[0]\n",
        "    max_y = max(max(y1), max(y2))+ylim_pad[0]\n",
        "\n",
        "\n",
        "    plt.subplot(121)\n",
        "\n",
        "    plt.plot(y1)\n",
        "    plt.plot(y2)\n",
        "\n",
        "    plt.title('Model Accuracy\\n'+date_time(1), fontsize=17)\n",
        "    plt.xlabel(xlabel, fontsize=15)\n",
        "    plt.ylabel('Accuracy', fontsize=15)\n",
        "    plt.ylim(min_y, max_y)\n",
        "    plt.legend(legends, loc='upper left')\n",
        "    plt.grid()\n",
        "\n",
        "    y1 = history.history['loss']\n",
        "    y2 = history.history['val_loss']\n",
        "\n",
        "    min_y = min(min(y1), min(y2))-ylim_pad[1]\n",
        "    max_y = max(max(y1), max(y2))+ylim_pad[1]\n",
        "\n",
        "    plt.subplot(122)\n",
        "\n",
        "    plt.plot(y1)\n",
        "    plt.plot(y2)\n",
        "\n",
        "    plt.title('Model Loss\\n'+date_time(1), fontsize=17)\n",
        "    plt.xlabel(xlabel, fontsize=15)\n",
        "    plt.ylabel('Loss', fontsize=15)\n",
        "    plt.ylim(min_y, max_y)\n",
        "    plt.legend(legends, loc='upper left')\n",
        "    plt.grid()\n",
        "    if figure_directory:\n",
        "        plt.savefig(figure_directory+\"/history\")\n",
        "\n",
        "    plt.show()"
      ],
      "metadata": {
        "execution": {
          "iopub.status.busy": "2024-04-29T23:28:51.026538Z",
          "iopub.execute_input": "2024-04-29T23:28:51.026759Z",
          "iopub.status.idle": "2024-04-29T23:28:51.03924Z",
          "shell.execute_reply.started": "2024-04-29T23:28:51.026733Z",
          "shell.execute_reply": "2024-04-29T23:28:51.038651Z"
        },
        "trusted": true,
        "id": "_ErCqwLeFCAm"
      },
      "execution_count": 6,
      "outputs": []
    },
    {
      "cell_type": "code",
      "source": [
        "# Pre-Processing Functio\n",
        "def strip_html_tags(text):\n",
        "    soup = BeautifulSoup(text, \"html.parser\")\n",
        "    [s.extract() for s in soup(['iframe', 'script'])]\n",
        "    stripped_text = soup.get_text()\n",
        "    stripped_text = re.sub(r'[\\r|\\n|\\r\\n]+', '\\n', stripped_text)\n",
        "    return stripped_text\n",
        "\n",
        "def remove_accented_chars(text):\n",
        "    text = unicodedata.normalize('NFKD', text).encode('ascii', 'ignore').decode('utf-8', 'ignore')\n",
        "    return text\n",
        "\n",
        "def pre_process_corpus(docs):\n",
        "    norm_docs = []\n",
        "    for doc in tqdm.tqdm(docs):\n",
        "        doc = strip_html_tags(doc)\n",
        "        doc = doc.translate(doc.maketrans(\"\\n\\t\\r\", \"   \"))\n",
        "        doc = doc.lower()\n",
        "        doc = remove_accented_chars(doc)\n",
        "        doc = contractions.fix(doc)\n",
        "        # lower case and remove special characters\\whitespaces\n",
        "        doc = re.sub(r'[^a-zA-Z0-9\\s]', '', doc, re.I|re.A)\n",
        "        doc = re.sub(' +', ' ', doc)\n",
        "        doc = doc.strip()\n",
        "        norm_docs.append(doc)\n",
        "\n",
        "    return norm_docs"
      ],
      "metadata": {
        "execution": {
          "iopub.status.busy": "2024-04-29T23:28:51.040197Z",
          "iopub.execute_input": "2024-04-29T23:28:51.040396Z",
          "iopub.status.idle": "2024-04-29T23:28:51.053529Z",
          "shell.execute_reply.started": "2024-04-29T23:28:51.040371Z",
          "shell.execute_reply": "2024-04-29T23:28:51.052877Z"
        },
        "trusted": true,
        "id": "EoQhlhYJFCAn"
      },
      "execution_count": 7,
      "outputs": []
    },
    {
      "cell_type": "markdown",
      "source": [
        "# 3. Loading Dataset (Yelp Reviews)"
      ],
      "metadata": {
        "id": "Msg0CvqiFCAo"
      }
    },
    {
      "cell_type": "code",
      "source": [
        "dataset_train = pd.read_csv('../input/yelp-reviews-for-sentianalysis-binary-np-csv/yelp_review_sa_binary_csv/train.csv')\n",
        "dataset_test = pd.read_csv('../input/yelp-reviews-for-sentianalysis-binary-np-csv/yelp_review_sa_binary_csv/test.csv')"
      ],
      "metadata": {
        "execution": {
          "iopub.status.busy": "2024-04-29T23:28:51.054347Z",
          "iopub.execute_input": "2024-04-29T23:28:51.05454Z",
          "iopub.status.idle": "2024-04-29T23:29:00.645263Z",
          "shell.execute_reply.started": "2024-04-29T23:28:51.054512Z",
          "shell.execute_reply": "2024-04-29T23:29:00.644641Z"
        },
        "trusted": true,
        "id": "k80XLj-UFCAo"
      },
      "execution_count": 8,
      "outputs": []
    },
    {
      "cell_type": "markdown",
      "source": [
        "# 4. Shuffeling and splitting the Data"
      ],
      "metadata": {
        "id": "Th8r6FxUFCAq"
      }
    },
    {
      "cell_type": "code",
      "source": [
        "# Shuffling Data\n",
        "\n",
        "train = dataset_train.sample(frac=1)\n",
        "test = dataset_test.sample(frac=1)\n",
        "\n",
        "# Taking only a small peice of the dataset to avoid long training time\n",
        "\n",
        "test = dataset_test.iloc[:38000,:]\n",
        "val = dataset_train.iloc[:50000,:]\n",
        "train = dataset_train.iloc[50000:,:]\n",
        "train = dataset_train.iloc[:50000,:]\n",
        "\n",
        "# Splitting data to train and validation sets manually, only including neccessary columns\n",
        "\n",
        "X_train = train['review_text'].values\n",
        "y_train = train['class_index'].values\n",
        "\n",
        "X_val = val['review_text'].values\n",
        "y_val = val['class_index'].values\n",
        "\n",
        "X_test = test['review_text'].values\n",
        "y_test = test['class_index'].values"
      ],
      "metadata": {
        "execution": {
          "iopub.status.busy": "2024-04-29T23:29:00.646282Z",
          "iopub.execute_input": "2024-04-29T23:29:00.646505Z",
          "iopub.status.idle": "2024-04-29T23:29:00.747641Z",
          "shell.execute_reply.started": "2024-04-29T23:29:00.646476Z",
          "shell.execute_reply": "2024-04-29T23:29:00.746968Z"
        },
        "trusted": true,
        "id": "AVEZOvLoFCAr"
      },
      "execution_count": 9,
      "outputs": []
    },
    {
      "cell_type": "markdown",
      "source": [
        "# 5. reprocessing and Tokenization"
      ],
      "metadata": {
        "id": "MJRKNbtxFCAs"
      }
    },
    {
      "cell_type": "code",
      "source": [
        "%%time\n",
        "#Pre-processing the Data (the Reviews)\n",
        "\n",
        "X_train = pre_process_corpus(X_train)\n",
        "X_val = pre_process_corpus(X_val)\n",
        "X_test = pre_process_corpus(X_test)"
      ],
      "metadata": {
        "execution": {
          "iopub.status.busy": "2024-04-29T23:29:00.748688Z",
          "iopub.execute_input": "2024-04-29T23:29:00.748925Z",
          "iopub.status.idle": "2024-04-29T23:29:40.925361Z",
          "shell.execute_reply.started": "2024-04-29T23:29:00.748893Z",
          "shell.execute_reply": "2024-04-29T23:29:40.92462Z"
        },
        "trusted": true,
        "colab": {
          "base_uri": "https://localhost:8080/"
        },
        "id": "jgC3uVQ_FCAs",
        "outputId": "bfd64947-f241-42dd-e070-cef21fa35912"
      },
      "execution_count": 10,
      "outputs": [
        {
          "output_type": "stream",
          "name": "stderr",
          "text": [
            "  0%|          | 0/50000 [00:00<?, ?it/s]<ipython-input-7-d6a0360b0af7>:3: MarkupResemblesLocatorWarning: The input looks more like a filename than markup. You may want to open this file and pass the filehandle into Beautiful Soup.\n",
            "  soup = BeautifulSoup(text, \"html.parser\")\n",
            "100%|██████████| 50000/50000 [00:11<00:00, 4504.54it/s]\n",
            "100%|██████████| 50000/50000 [00:10<00:00, 4700.43it/s]\n",
            "100%|██████████| 38000/38000 [00:08<00:00, 4706.91it/s]"
          ]
        },
        {
          "output_type": "stream",
          "name": "stdout",
          "text": [
            "CPU times: user 29.7 s, sys: 219 ms, total: 29.9 s\n",
            "Wall time: 29.8 s\n"
          ]
        },
        {
          "output_type": "stream",
          "name": "stderr",
          "text": [
            "\n"
          ]
        }
      ]
    },
    {
      "cell_type": "code",
      "source": [
        "# Tokenazing the Data (the Reviews)\n",
        "\n",
        "t = Tokenizer(oov_token='<UNK>')\n",
        "# fit the tokenizer on train documents\n",
        "t.fit_on_texts(X_train)\n",
        "t.word_index['<PAD>'] = 0"
      ],
      "metadata": {
        "execution": {
          "iopub.status.busy": "2024-04-29T23:29:40.928392Z",
          "iopub.execute_input": "2024-04-29T23:29:40.928754Z",
          "iopub.status.idle": "2024-04-29T23:29:46.230133Z",
          "shell.execute_reply.started": "2024-04-29T23:29:40.92871Z",
          "shell.execute_reply": "2024-04-29T23:29:46.229472Z"
        },
        "trusted": true,
        "id": "Fblvt9ZpFCAs"
      },
      "execution_count": 11,
      "outputs": []
    },
    {
      "cell_type": "code",
      "source": [
        "# Transforming Reviews to Sequences\n",
        "\n",
        "X_train = t.texts_to_sequences(X_train)\n",
        "X_test = t.texts_to_sequences(X_test)\n",
        "X_val = t.texts_to_sequences(X_val)"
      ],
      "metadata": {
        "execution": {
          "iopub.status.busy": "2024-04-29T23:29:46.231118Z",
          "iopub.execute_input": "2024-04-29T23:29:46.231341Z",
          "iopub.status.idle": "2024-04-29T23:29:57.540029Z",
          "shell.execute_reply.started": "2024-04-29T23:29:46.231313Z",
          "shell.execute_reply": "2024-04-29T23:29:57.539343Z"
        },
        "trusted": true,
        "id": "VsSuckjFFCAt"
      },
      "execution_count": 12,
      "outputs": []
    },
    {
      "cell_type": "markdown",
      "source": [
        "# 6. Dataset Visualization"
      ],
      "metadata": {
        "id": "D3_m7SPvFCAt"
      }
    },
    {
      "cell_type": "code",
      "source": [
        "# Calculating the Vocabulary Size and the number of Reviews\n",
        "\n",
        "print(\"Vocabulary size={}\".format(len(t.word_index)))\n",
        "print(\"Number of Reviews={}\".format(t.document_count))"
      ],
      "metadata": {
        "execution": {
          "iopub.status.busy": "2024-04-29T23:29:57.541073Z",
          "iopub.execute_input": "2024-04-29T23:29:57.541304Z",
          "iopub.status.idle": "2024-04-29T23:29:57.546866Z",
          "shell.execute_reply.started": "2024-04-29T23:29:57.541277Z",
          "shell.execute_reply": "2024-04-29T23:29:57.546075Z"
        },
        "trusted": true,
        "colab": {
          "base_uri": "https://localhost:8080/"
        },
        "id": "nUbAZT6MFCAu",
        "outputId": "f5946017-1310-4b5d-d96e-c5f1d812d7f7"
      },
      "execution_count": 13,
      "outputs": [
        {
          "output_type": "stream",
          "name": "stdout",
          "text": [
            "Vocabulary size=120075\n",
            "Number of Reviews=50000\n"
          ]
        }
      ]
    },
    {
      "cell_type": "code",
      "source": [
        "# Plotting the size of the sequences\n",
        "\n",
        "import matplotlib.pyplot as plt\n",
        "%matplotlib inline\n",
        "\n",
        "train_lens = [len(s) for s in X_train]\n",
        "test_lens = [len(s) for s in X_test]\n",
        "\n",
        "fig, ax = plt.subplots(1,2, figsize=(12, 6))\n",
        "h1 = ax[0].hist(train_lens)\n",
        "h2 = ax[1].hist(test_lens)"
      ],
      "metadata": {
        "execution": {
          "iopub.status.busy": "2024-04-29T23:29:57.547757Z",
          "iopub.execute_input": "2024-04-29T23:29:57.54797Z",
          "iopub.status.idle": "2024-04-29T23:29:58.312142Z",
          "shell.execute_reply.started": "2024-04-29T23:29:57.547945Z",
          "shell.execute_reply": "2024-04-29T23:29:58.311415Z"
        },
        "trusted": true,
        "colab": {
          "base_uri": "https://localhost:8080/",
          "height": 522
        },
        "id": "W_ax7UDzFCAu",
        "outputId": "e7cf1b77-fc14-48c3-d2a4-a0bce6d7b08d"
      },
      "execution_count": 14,
      "outputs": [
        {
          "output_type": "display_data",
          "data": {
            "text/plain": [
              "<Figure size 1200x600 with 2 Axes>"
            ],
            "image/png": "[encoded data removed]"
          },
          "metadata": {}
        }
      ]
    },
    {
      "cell_type": "markdown",
      "source": [
        "# 7. Sequence Normalization and Encoding Labels"
      ],
      "metadata": {
        "id": "xfql-35hFCAv"
      }
    },
    {
      "cell_type": "code",
      "source": [
        "# Padding the dataset to a maximum review length in words\n",
        "\n",
        "X_train = sequence.pad_sequences(X_train, maxlen=800)\n",
        "X_test = sequence.pad_sequences(X_test, maxlen=800)\n",
        "X_val = sequence.pad_sequences(X_val, maxlen=800)"
      ],
      "metadata": {
        "execution": {
          "iopub.status.busy": "2024-04-29T23:29:58.313321Z",
          "iopub.execute_input": "2024-04-29T23:29:58.313584Z",
          "iopub.status.idle": "2024-04-29T23:30:00.479867Z",
          "shell.execute_reply.started": "2024-04-29T23:29:58.313544Z",
          "shell.execute_reply": "2024-04-29T23:30:00.479079Z"
        },
        "trusted": true,
        "id": "UhhwWrWdFCAv"
      },
      "execution_count": 15,
      "outputs": []
    },
    {
      "cell_type": "code",
      "source": [
        "# Encoding Labels\n",
        "\n",
        "le = LabelEncoder()\n",
        "num_classes=2 # positive -> 1, negative -> 0\n",
        "\n",
        "y_train = le.fit_transform(y_train)\n",
        "y_test = le.transform(y_test)\n",
        "y_val = le.transform(y_val)"
      ],
      "metadata": {
        "execution": {
          "iopub.status.busy": "2024-04-29T23:30:00.481361Z",
          "iopub.execute_input": "2024-04-29T23:30:00.481609Z",
          "iopub.status.idle": "2024-04-29T23:30:00.491025Z",
          "shell.execute_reply.started": "2024-04-29T23:30:00.481564Z",
          "shell.execute_reply": "2024-04-29T23:30:00.490324Z"
        },
        "trusted": true,
        "id": "NGkVI-2SFCAv"
      },
      "execution_count": 16,
      "outputs": []
    },
    {
      "cell_type": "markdown",
      "source": [
        "# 8. Model Preparation and Training"
      ],
      "metadata": {
        "id": "rAyVqMM0FCAw"
      }
    },
    {
      "cell_type": "code",
      "source": [
        "# Hyperparameters of the model\n",
        "\n",
        "EMBEDDING_DIM = 300\n",
        "MAX_SEQUENCE_LENGTH = 800\n",
        "VOCAB_SIZE = len(t.word_index)"
      ],
      "metadata": {
        "execution": {
          "iopub.status.busy": "2024-04-29T23:30:00.492232Z",
          "iopub.execute_input": "2024-04-29T23:30:00.492707Z",
          "iopub.status.idle": "2024-04-29T23:30:00.497661Z",
          "shell.execute_reply.started": "2024-04-29T23:30:00.492673Z",
          "shell.execute_reply": "2024-04-29T23:30:00.496885Z"
        },
        "trusted": true,
        "id": "BZTvPq--FCAw"
      },
      "execution_count": 17,
      "outputs": []
    },
    {
      "cell_type": "code",
      "source": [
        "# model initialization\n",
        "model = Sequential()\n",
        "\n",
        "# The Embedding Layer\n",
        "model.add(Embedding(VOCAB_SIZE, EMBEDDING_DIM, input_length=MAX_SEQUENCE_LENGTH))\n",
        "\n",
        "# The LSTM layer (64)\n",
        "model.add(LSTM(64))\n",
        "\n",
        "# The first DEnse layer (24,relu)\n",
        "model.add(Dense(24, activation='relu'))\n",
        "\n",
        "# The first DEnse layer (24,relu)\n",
        "model.add(Dense(1, activation='sigmoid'))\n",
        "\n",
        "# compile model\n",
        "model.compile(loss='BinaryCrossentropy',\n",
        "              optimizer=tf.keras.optimizers.Adam(1e-4),\n",
        "              metrics=['accuracy'])\n",
        "\n",
        "# model summary\n",
        "model.summary()"
      ],
      "metadata": {
        "execution": {
          "iopub.status.busy": "2024-04-29T23:30:00.498824Z",
          "iopub.execute_input": "2024-04-29T23:30:00.499076Z",
          "iopub.status.idle": "2024-04-29T23:30:03.453187Z",
          "shell.execute_reply.started": "2024-04-29T23:30:00.499041Z",
          "shell.execute_reply": "2024-04-29T23:30:03.452417Z"
        },
        "trusted": true,
        "colab": {
          "base_uri": "https://localhost:8080/"
        },
        "id": "UUsSnuMsFCAw",
        "outputId": "986d0863-90b6-4eb5-b6eb-d1ff1d49054b"
      },
      "execution_count": 18,
      "outputs": [
        {
          "output_type": "stream",
          "name": "stdout",
          "text": [
            "Model: \"sequential\"\n",
            "_________________________________________________________________\n",
            " Layer (type)                Output Shape              Param #   \n",
            "=================================================================\n",
            " embedding (Embedding)       (None, 800, 300)          36022500  \n",
            "                                                                 \n",
            " lstm (LSTM)                 (None, 64)                93440     \n",
            "                                                                 \n",
            " dense (Dense)               (None, 24)                1560      \n",
            "                                                                 \n",
            " dense_1 (Dense)             (None, 1)                 25        \n",
            "                                                                 \n",
            "=================================================================\n",
            "Total params: 36117525 (137.78 MB)\n",
            "Trainable params: 36117525 (137.78 MB)\n",
            "Non-trainable params: 0 (0.00 Byte)\n",
            "_________________________________________________________________\n"
          ]
        }
      ]
    },
    {
      "cell_type": "code",
      "source": [
        "# Training the Model with GPU\n",
        "with tf.device('/GPU:0'):\n",
        "    history1 = model.fit(X_train, y_train,validation_data=(X_val,y_val), epochs=10, validation_steps=30, verbose=1)"
      ],
      "metadata": {
        "execution": {
          "iopub.status.busy": "2024-04-29T23:30:03.454422Z",
          "iopub.execute_input": "2024-04-29T23:30:03.454728Z",
          "iopub.status.idle": "2024-04-29T23:41:28.530975Z",
          "shell.execute_reply.started": "2024-04-29T23:30:03.454687Z",
          "shell.execute_reply": "2024-04-29T23:41:28.530161Z"
        },
        "trusted": true,
        "colab": {
          "base_uri": "https://localhost:8080/"
        },
        "id": "nELT2aEOFCAx",
        "outputId": "f1edd9a9-4101-42a3-aa6c-386c725216bb"
      },
      "execution_count": 19,
      "outputs": [
        {
          "output_type": "stream",
          "name": "stdout",
          "text": [
            "Epoch 1/10\n",
            "1563/1563 [==============================] - 142s 88ms/step - loss: 0.3503 - accuracy: 0.8484 - val_loss: 0.1808 - val_accuracy: 0.9394\n",
            "Epoch 2/10\n",
            "1563/1563 [==============================] - 61s 39ms/step - loss: 0.1667 - accuracy: 0.9394 - val_loss: 0.1142 - val_accuracy: 0.9630\n",
            "Epoch 3/10\n",
            "1563/1563 [==============================] - 53s 34ms/step - loss: 0.1147 - accuracy: 0.9613 - val_loss: 0.0779 - val_accuracy: 0.9750\n",
            "Epoch 4/10\n",
            "1563/1563 [==============================] - 50s 32ms/step - loss: 0.0820 - accuracy: 0.9724 - val_loss: 0.0513 - val_accuracy: 0.9851\n",
            "Epoch 5/10\n",
            "1563/1563 [==============================] - 50s 32ms/step - loss: 0.0605 - accuracy: 0.9804 - val_loss: 0.0488 - val_accuracy: 0.9849\n",
            "Epoch 6/10\n",
            "1563/1563 [==============================] - 48s 31ms/step - loss: 0.0426 - accuracy: 0.9864 - val_loss: 0.0312 - val_accuracy: 0.9904\n",
            "Epoch 7/10\n",
            "1563/1563 [==============================] - 46s 29ms/step - loss: 0.0344 - accuracy: 0.9891 - val_loss: 0.0190 - val_accuracy: 0.9950\n",
            "Epoch 8/10\n",
            "1563/1563 [==============================] - 47s 30ms/step - loss: 0.0253 - accuracy: 0.9923 - val_loss: 0.0152 - val_accuracy: 0.9960\n",
            "Epoch 9/10\n",
            "1563/1563 [==============================] - 45s 29ms/step - loss: 0.0236 - accuracy: 0.9932 - val_loss: 0.0154 - val_accuracy: 0.9958\n",
            "Epoch 10/10\n",
            "1563/1563 [==============================] - 45s 29ms/step - loss: 0.0224 - accuracy: 0.9928 - val_loss: 0.0162 - val_accuracy: 0.9947\n"
          ]
        }
      ]
    },
    {
      "cell_type": "markdown",
      "source": [
        "# 9. Visualizing and Evaluating the Results"
      ],
      "metadata": {
        "id": "6B4DHO4-FCAx"
      }
    },
    {
      "cell_type": "code",
      "source": [
        "#Accuracy / Validation_Accuracy  and Loss / Validation_Loss Plot\n",
        "plot_performance(history=history1)"
      ],
      "metadata": {
        "execution": {
          "iopub.status.busy": "2024-04-29T23:41:28.532312Z",
          "iopub.execute_input": "2024-04-29T23:41:28.532542Z",
          "iopub.status.idle": "2024-04-29T23:41:28.888866Z",
          "shell.execute_reply.started": "2024-04-29T23:41:28.532513Z",
          "shell.execute_reply": "2024-04-29T23:41:28.888146Z"
        },
        "trusted": true,
        "colab": {
          "base_uri": "https://localhost:8080/",
          "height": 445
        },
        "id": "PHsopqPuFCAx",
        "outputId": "6d04d45a-ed66-4bbb-8d07-b20e1b1ef35d"
      },
      "execution_count": 20,
      "outputs": [
        {
          "output_type": "display_data",
          "data": {
            "text/plain": [
              "<Figure size 2000x500 with 2 Axes>"
            ],
            "image/png": "[encoded data removed]"
          },
          "metadata": {}
        }
      ]
    },
    {
      "cell_type": "code",
      "source": [
        "# Final evaluation of the model\n",
        "\n",
        "scores = model.evaluate(X_test, y_test, verbose=1)\n",
        "print(\"Accuracy: %.2f%%\" % (scores[1]*100))"
      ],
      "metadata": {
        "execution": {
          "iopub.status.busy": "2024-04-29T23:41:28.889827Z",
          "iopub.execute_input": "2024-04-29T23:41:28.890015Z",
          "iopub.status.idle": "2024-04-29T23:41:45.996062Z",
          "shell.execute_reply.started": "2024-04-29T23:41:28.88999Z",
          "shell.execute_reply": "2024-04-29T23:41:45.995313Z"
        },
        "trusted": true,
        "colab": {
          "base_uri": "https://localhost:8080/"
        },
        "id": "Fwvjc_qrFCAy",
        "outputId": "a1cb4c40-f14b-42fa-ea11-0baf7729e35f"
      },
      "execution_count": 21,
      "outputs": [
        {
          "output_type": "stream",
          "name": "stdout",
          "text": [
            "1188/1188 [==============================] - 13s 11ms/step - loss: 0.4816 - accuracy: 0.8995\n",
            "Accuracy: 89.95%\n"
          ]
        }
      ]
    },
    {
      "cell_type": "code",
      "source": [
        "X_test[0], y_test[0]"
      ],
      "metadata": {
        "id": "S8qEBo2JPOa0"
      },
      "execution_count": null,
      "outputs": []
    },
    {
      "cell_type": "markdown",
      "source": [
        "# 10. Saving the model"
      ],
      "metadata": {
        "id": "t30JCYYUFCAz"
      }
    },
    {
      "cell_type": "code",
      "source": [
        "model.save('Binary_Classification_90_Yelp_Reviews_LSTM.h5')"
      ],
      "metadata": {
        "execution": {
          "iopub.status.busy": "2024-04-29T23:41:45.997094Z",
          "iopub.execute_input": "2024-04-29T23:41:45.997332Z",
          "iopub.status.idle": "2024-04-29T23:41:46.857263Z",
          "shell.execute_reply.started": "2024-04-29T23:41:45.997302Z",
          "shell.execute_reply": "2024-04-29T23:41:46.85647Z"
        },
        "trusted": true,
        "colab": {
          "base_uri": "https://localhost:8080/"
        },
        "id": "Xvfnk-SKFCAz",
        "outputId": "41e3ed3f-7fc6-490c-d0c4-65ad1599a64e"
      },
      "execution_count": 22,
      "outputs": [
        {
          "output_type": "stream",
          "name": "stderr",
          "text": [
            "/usr/local/lib/python3.10/dist-packages/keras/src/engine/training.py:3103: UserWarning: You are saving your model as an HDF5 file via `model.save()`. This file format is considered legacy. We recommend using instead the native Keras format, e.g. `model.save('my_model.keras')`.\n",
            "  saving_api.save_model(\n"
          ]
        }
      ]
    },
    {
      "cell_type": "code",
      "source": [
        "from tensorflow.keras.models import load_model\n",
        "import numpy as np\n",
        "import tensorflow as tf\n",
        "\n",
        "model = load_model('Binary_Classification_90_Yelp_Reviews_LSTM.h5')\n",
        "\n",
        "def preprocess_text(text):\n",
        "    text = strip_html_tags(text)\n",
        "    text = text.translate(text.maketrans(\"\\n\\t\\r\", \"   \"))\n",
        "    text = text.lower()\n",
        "    text = remove_accented_chars(text)\n",
        "    text = contractions.fix(text)\n",
        "    text = re.sub(r'[^a-zA-Z0-9\\s]', '', text, re.I|re.A)\n",
        "    text = re.sub(' +', ' ', text)\n",
        "    text = text.strip()\n",
        "    return text\n",
        "\n",
        "def predict_sentiment(review_text):\n",
        "    processed_text = preprocess_text(review_text)\n",
        "    tokenized_text = t.texts_to_sequences([processed_text])\n",
        "    padded_text = sequence.pad_sequences(tokenized_text, maxlen=800)\n",
        "    prediction = model.predict(padded_text)[0][0]\n",
        "    binary_prediction = np.round(prediction).astype(int)\n",
        "    return binary_prediction\n",
        "\n",
        "sample_text = \"I hate being stupid\"\n",
        "print(sample_text)\n",
        "prediction = predict_sentiment(sample_text)\n",
        "if prediction == 1:\n",
        "    print(\"Positive sentiment\")\n",
        "else:\n",
        "    print(\"Negative sentiment\")"
      ],
      "metadata": {
        "execution": {
          "iopub.status.busy": "2024-04-29T23:56:55.365806Z",
          "iopub.execute_input": "2024-04-29T23:56:55.366104Z",
          "iopub.status.idle": "2024-04-29T23:56:55.743156Z",
          "shell.execute_reply.started": "2024-04-29T23:56:55.366073Z",
          "shell.execute_reply": "2024-04-29T23:56:55.742273Z"
        },
        "trusted": true,
        "colab": {
          "base_uri": "https://localhost:8080/"
        },
        "id": "HGrcXYDJFCAz",
        "outputId": "91f86855-ccbf-46f1-8ff4-03ceda874dbb"
      },
      "execution_count": 38,
      "outputs": [
        {
          "output_type": "stream",
          "name": "stdout",
          "text": [
            "I hate being stupid\n",
            "1/1 [==============================] - 0s 377ms/step\n",
            "Negative sentiment\n"
          ]
        }
      ]
    },
    {
      "cell_type": "code",
      "source": [],
      "metadata": {
        "id": "fNwrfZ6riaWQ",
        "outputId": "c53b1d08-4517-44cb-e207-dd7d5c7b02c0",
        "colab": {
          "base_uri": "https://localhost:8080/"
        }
      },
      "execution_count": 40,
      "outputs": [
        {
          "output_type": "stream",
          "name": "stdout",
          "text": [
            "[6, 1, 6, 5, 2, 1]\n"
          ]
        }
      ]
    }
  ]
}