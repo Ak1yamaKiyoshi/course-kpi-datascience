{
 "cells": [
  {
   "cell_type": "markdown",
   "id": "8799219e",
   "metadata": {
    "papermill": {
     "duration": 0.032125,
     "end_time": "2024-04-30T00:04:54.709926",
     "exception": false,
     "start_time": "2024-04-30T00:04:54.677801",
     "status": "completed"
    },
    "tags": []
   },
   "source": []
  },
  {
   "cell_type": "markdown",
   "id": "9c655358",
   "metadata": {
    "papermill": {
     "duration": 0.030612,
     "end_time": "2024-04-30T00:04:54.771146",
     "exception": false,
     "start_time": "2024-04-30T00:04:54.740534",
     "status": "completed"
    },
    "tags": []
   },
   "source": [
    "# 1. Download and Imports"
   ]
  },
  {
   "cell_type": "code",
   "execution_count": 1,
   "id": "6c22d9bc",
   "metadata": {
    "_cell_guid": "b1076dfc-b9ad-4769-8c92-a6c4dae69d19",
    "_uuid": "8f2839f25d086af736a60e9eeb907d3b93b6e0e5",
    "execution": {
     "iopub.execute_input": "2024-04-30T00:04:54.834782Z",
     "iopub.status.busy": "2024-04-30T00:04:54.834104Z",
     "iopub.status.idle": "2024-04-30T00:05:30.366664Z",
     "shell.execute_reply": "2024-04-30T00:05:30.365876Z"
    },
    "papermill": {
     "duration": 35.566208,
     "end_time": "2024-04-30T00:05:30.368691",
     "exception": false,
     "start_time": "2024-04-30T00:04:54.802483",
     "status": "completed"
    },
    "tags": []
   },
   "outputs": [
    {
     "name": "stdout",
     "output_type": "stream",
     "text": [
      "Collecting contractions\r\n",
      "  Downloading contractions-0.1.73-py2.py3-none-any.whl (8.7 kB)\r\n",
      "Collecting textsearch>=0.0.21\r\n",
      "  Downloading textsearch-0.0.24-py2.py3-none-any.whl (7.6 kB)\r\n",
      "Collecting anyascii\r\n",
      "  Downloading anyascii-0.3.2-py3-none-any.whl (289 kB)\r\n",
      "\u001b[2K     \u001b[90m━━━━━━━━━━━━━━━━━━━━━━━━━━━━━━━━━━━━━━━\u001b[0m \u001b[32m289.9/289.9 KB\u001b[0m \u001b[31m8.7 MB/s\u001b[0m eta \u001b[36m0:00:00\u001b[0m\r\n",
      "\u001b[?25hCollecting pyahocorasick\r\n",
      "  Downloading pyahocorasick-2.0.0-cp37-cp37m-manylinux_2_5_x86_64.manylinux1_x86_64.whl (101 kB)\r\n",
      "\u001b[2K     \u001b[90m━━━━━━━━━━━━━━━━━━━━━━━━━━━━━━━━━━━━━━\u001b[0m \u001b[32m101.8/101.8 KB\u001b[0m \u001b[31m11.0 MB/s\u001b[0m eta \u001b[36m0:00:00\u001b[0m\r\n",
      "\u001b[?25hInstalling collected packages: pyahocorasick, anyascii, textsearch, contractions\r\n",
      "Successfully installed anyascii-0.3.2 contractions-0.1.73 pyahocorasick-2.0.0 textsearch-0.0.24\r\n",
      "\u001b[33mWARNING: Running pip as the 'root' user can result in broken permissions and conflicting behaviour with the system package manager. It is recommended to use a virtual environment instead: https://pip.pypa.io/warnings/venv\u001b[0m\u001b[33m\r\n",
      "\u001b[0mRequirement already satisfied: textsearch in /opt/conda/lib/python3.7/site-packages (0.0.24)\r\n",
      "Requirement already satisfied: anyascii in /opt/conda/lib/python3.7/site-packages (from textsearch) (0.3.2)\r\n",
      "Requirement already satisfied: pyahocorasick in /opt/conda/lib/python3.7/site-packages (from textsearch) (2.0.0)\r\n",
      "\u001b[33mWARNING: Running pip as the 'root' user can result in broken permissions and conflicting behaviour with the system package manager. It is recommended to use a virtual environment instead: https://pip.pypa.io/warnings/venv\u001b[0m\u001b[33m\r\n",
      "\u001b[0mRequirement already satisfied: tqdm in /opt/conda/lib/python3.7/site-packages (4.63.0)\r\n",
      "\u001b[33mWARNING: Running pip as the 'root' user can result in broken permissions and conflicting behaviour with the system package manager. It is recommended to use a virtual environment instead: https://pip.pypa.io/warnings/venv\u001b[0m\u001b[33m\r\n",
      "\u001b[0m[nltk_data] Downloading package punkt to /usr/share/nltk_data...\n",
      "[nltk_data]   Unzipping tokenizers/punkt.zip.\n"
     ]
    },
    {
     "data": {
      "text/plain": [
       "True"
      ]
     },
     "execution_count": 1,
     "metadata": {},
     "output_type": "execute_result"
    }
   ],
   "source": [
    "!pip install contractions\n",
    "!pip install textsearch\n",
    "!pip install tqdm\n",
    "import nltk\n",
    "nltk.download('punkt')"
   ]
  },
  {
   "cell_type": "code",
   "execution_count": 2,
   "id": "7d0e21ac",
   "metadata": {
    "execution": {
     "iopub.execute_input": "2024-04-30T00:05:30.442329Z",
     "iopub.status.busy": "2024-04-30T00:05:30.442068Z",
     "iopub.status.idle": "2024-04-30T00:05:36.023244Z",
     "shell.execute_reply": "2024-04-30T00:05:36.022498Z"
    },
    "papermill": {
     "duration": 5.620625,
     "end_time": "2024-04-30T00:05:36.025639",
     "exception": false,
     "start_time": "2024-04-30T00:05:30.405014",
     "status": "completed"
    },
    "tags": []
   },
   "outputs": [],
   "source": [
    "#Tensorflow and Keras and sklearn\n",
    "import tensorflow as tf\n",
    "import pandas as pd\n",
    "import numpy as np\n",
    "from tensorflow.keras.models import Sequential\n",
    "from tensorflow.keras.layers import Dense\n",
    "from tensorflow.keras.layers import Dropout\n",
    "from tensorflow.keras.layers import Flatten\n",
    "from tensorflow.keras.layers import Conv1D\n",
    "from tensorflow.keras.layers import MaxPooling1D\n",
    "from tensorflow.keras.layers import Embedding\n",
    "from tensorflow.keras.layers import LSTM\n",
    "from tensorflow.keras.preprocessing.text import Tokenizer\n",
    "from tensorflow.keras.preprocessing import sequence\n",
    "from sklearn.preprocessing import LabelEncoder\n",
    "\n",
    "#Charts\n",
    "from sklearn import metrics \n",
    "from sklearn.metrics import f1_score, accuracy_score,confusion_matrix,classification_report\n",
    "import matplotlib.pyplot as plt\n",
    "import seaborn as sns\n",
    "\n",
    "# Time\n",
    "import time\n",
    "import datetime\n",
    "\n",
    "#Performance Plot\n",
    "import contractions\n",
    "from bs4 import BeautifulSoup\n",
    "import numpy as np\n",
    "import re\n",
    "import tqdm\n",
    "import unicodedata\n",
    "\n",
    "%matplotlib inline\n",
    "\n",
    "# fix random seed for reproducibility\n",
    "seed = 3541\n",
    "np.random.seed(seed)"
   ]
  },
  {
   "cell_type": "markdown",
   "id": "b849bada",
   "metadata": {
    "papermill": {
     "duration": 0.036023,
     "end_time": "2024-04-30T00:05:36.097976",
     "exception": false,
     "start_time": "2024-04-30T00:05:36.061953",
     "status": "completed"
    },
    "tags": []
   },
   "source": [
    "# 2. Functions"
   ]
  },
  {
   "cell_type": "code",
   "execution_count": 3,
   "id": "a67cbd6c",
   "metadata": {
    "execution": {
     "iopub.execute_input": "2024-04-30T00:05:36.171894Z",
     "iopub.status.busy": "2024-04-30T00:05:36.171257Z",
     "iopub.status.idle": "2024-04-30T00:05:36.176602Z",
     "shell.execute_reply": "2024-04-30T00:05:36.175888Z"
    },
    "papermill": {
     "duration": 0.044433,
     "end_time": "2024-04-30T00:05:36.178404",
     "exception": false,
     "start_time": "2024-04-30T00:05:36.133971",
     "status": "completed"
    },
    "tags": []
   },
   "outputs": [],
   "source": [
    "import matplotlib.pyplot as plt\n",
    "\n",
    "\n",
    "def plot_graphs(history, metric):\n",
    "    plt.plot(history.history[metric])\n",
    "    plt.plot(history.history['val_'+metric], '')\n",
    "    plt.xlabel(\"Epochs\")\n",
    "    plt.ylabel(metric)\n",
    "    plt.legend([metric, 'val_'+metric])"
   ]
  },
  {
   "cell_type": "code",
   "execution_count": 4,
   "id": "397a41bd",
   "metadata": {
    "execution": {
     "iopub.execute_input": "2024-04-30T00:05:36.252334Z",
     "iopub.status.busy": "2024-04-30T00:05:36.252134Z",
     "iopub.status.idle": "2024-04-30T00:05:36.257534Z",
     "shell.execute_reply": "2024-04-30T00:05:36.256824Z"
    },
    "papermill": {
     "duration": 0.044718,
     "end_time": "2024-04-30T00:05:36.259306",
     "exception": false,
     "start_time": "2024-04-30T00:05:36.214588",
     "status": "completed"
    },
    "tags": []
   },
   "outputs": [],
   "source": [
    "# date_time function\n",
    "\n",
    "def date_time(x):\n",
    "    if x==1:\n",
    "        return 'Timestamp: {:%Y-%m-%d %H:%M:%S}'.format(datetime.datetime.now())\n",
    "    if x==2:    \n",
    "        return 'Timestamp: {:%Y-%b-%d %H:%M:%S}'.format(datetime.datetime.now())\n",
    "    if x==3:  \n",
    "        return 'Date now: %s' % datetime.datetime.now()\n",
    "    if x==4:  \n",
    "        return 'Date today: %s' % datetime.date.today()"
   ]
  },
  {
   "cell_type": "code",
   "execution_count": 5,
   "id": "b75aa1cb",
   "metadata": {
    "execution": {
     "iopub.execute_input": "2024-04-30T00:05:36.333312Z",
     "iopub.status.busy": "2024-04-30T00:05:36.332771Z",
     "iopub.status.idle": "2024-04-30T00:05:36.345013Z",
     "shell.execute_reply": "2024-04-30T00:05:36.344373Z"
    },
    "papermill": {
     "duration": 0.051055,
     "end_time": "2024-04-30T00:05:36.346890",
     "exception": false,
     "start_time": "2024-04-30T00:05:36.295835",
     "status": "completed"
    },
    "tags": []
   },
   "outputs": [],
   "source": [
    "# Performance Plot\n",
    "\n",
    "def plot_performance(history=None, figure_directory=None, ylim_pad=[0, 0]):\n",
    "    xlabel = 'Epoch'\n",
    "    legends = ['Training', 'Validation']\n",
    "\n",
    "    plt.figure(figsize=(20, 5))\n",
    "\n",
    "    y1 = history.history['accuracy']\n",
    "    y2 = history.history['val_accuracy']\n",
    "\n",
    "    min_y = min(min(y1), min(y2))-ylim_pad[0]\n",
    "    max_y = max(max(y1), max(y2))+ylim_pad[0]\n",
    "\n",
    "\n",
    "    plt.subplot(121)\n",
    "\n",
    "    plt.plot(y1)\n",
    "    plt.plot(y2)\n",
    "\n",
    "    plt.title('Model Accuracy\\n'+date_time(1), fontsize=17)\n",
    "    plt.xlabel(xlabel, fontsize=15)\n",
    "    plt.ylabel('Accuracy', fontsize=15)\n",
    "    plt.ylim(min_y, max_y)\n",
    "    plt.legend(legends, loc='upper left')\n",
    "    plt.grid()\n",
    "\n",
    "    y1 = history.history['loss']\n",
    "    y2 = history.history['val_loss']\n",
    "\n",
    "    min_y = min(min(y1), min(y2))-ylim_pad[1]\n",
    "    max_y = max(max(y1), max(y2))+ylim_pad[1]\n",
    "\n",
    "\n",
    "    plt.subplot(122)\n",
    "\n",
    "    plt.plot(y1)\n",
    "    plt.plot(y2)\n",
    "\n",
    "    plt.title('Model Loss\\n'+date_time(1), fontsize=17)\n",
    "    plt.xlabel(xlabel, fontsize=15)\n",
    "    plt.ylabel('Loss', fontsize=15)\n",
    "    plt.ylim(min_y, max_y)\n",
    "    plt.legend(legends, loc='upper left')\n",
    "    plt.grid()\n",
    "    if figure_directory:\n",
    "        plt.savefig(figure_directory+\"/history\")\n",
    "\n",
    "    plt.show()"
   ]
  },
  {
   "cell_type": "code",
   "execution_count": 6,
   "id": "cf5c07f9",
   "metadata": {
    "execution": {
     "iopub.execute_input": "2024-04-30T00:05:36.419925Z",
     "iopub.status.busy": "2024-04-30T00:05:36.419706Z",
     "iopub.status.idle": "2024-04-30T00:05:36.428695Z",
     "shell.execute_reply": "2024-04-30T00:05:36.428097Z"
    },
    "papermill": {
     "duration": 0.047727,
     "end_time": "2024-04-30T00:05:36.430432",
     "exception": false,
     "start_time": "2024-04-30T00:05:36.382705",
     "status": "completed"
    },
    "tags": []
   },
   "outputs": [],
   "source": [
    "# Pre-Processing Functio\n",
    "def strip_html_tags(text):\n",
    "    soup = BeautifulSoup(text, \"html.parser\")\n",
    "    [s.extract() for s in soup(['iframe', 'script'])]\n",
    "    stripped_text = soup.get_text()\n",
    "    stripped_text = re.sub(r'[\\r|\\n|\\r\\n]+', '\\n', stripped_text)\n",
    "    return stripped_text\n",
    "\n",
    "def remove_accented_chars(text):\n",
    "    text = unicodedata.normalize('NFKD', text).encode('ascii', 'ignore').decode('utf-8', 'ignore')\n",
    "    return text\n",
    "\n",
    "def pre_process_corpus(docs):\n",
    "    norm_docs = []\n",
    "    for doc in tqdm.tqdm(docs):\n",
    "        doc = strip_html_tags(doc)\n",
    "        doc = doc.translate(doc.maketrans(\"\\n\\t\\r\", \"   \"))\n",
    "        doc = doc.lower()\n",
    "        doc = remove_accented_chars(doc)\n",
    "        doc = contractions.fix(doc)\n",
    "        # lower case and remove special characters\\whitespaces\n",
    "        doc = re.sub(r'[^a-zA-Z0-9\\s]', '', doc, re.I|re.A)\n",
    "        doc = re.sub(' +', ' ', doc)\n",
    "        doc = doc.strip()  \n",
    "        norm_docs.append(doc)\n",
    "  \n",
    "    return norm_docs"
   ]
  },
  {
   "cell_type": "markdown",
   "id": "539906fa",
   "metadata": {
    "papermill": {
     "duration": 0.035725,
     "end_time": "2024-04-30T00:05:36.502027",
     "exception": false,
     "start_time": "2024-04-30T00:05:36.466302",
     "status": "completed"
    },
    "tags": []
   },
   "source": [
    "# 3. Loading Dataset (Yelp Reviews)"
   ]
  },
  {
   "cell_type": "code",
   "execution_count": 7,
   "id": "ae4fcee9",
   "metadata": {
    "execution": {
     "iopub.execute_input": "2024-04-30T00:05:36.575044Z",
     "iopub.status.busy": "2024-04-30T00:05:36.574805Z",
     "iopub.status.idle": "2024-04-30T00:05:44.609693Z",
     "shell.execute_reply": "2024-04-30T00:05:44.609017Z"
    },
    "papermill": {
     "duration": 8.073874,
     "end_time": "2024-04-30T00:05:44.612000",
     "exception": false,
     "start_time": "2024-04-30T00:05:36.538126",
     "status": "completed"
    },
    "tags": []
   },
   "outputs": [],
   "source": [
    "dataset_train = pd.read_csv('../input/yelp-reviews-for-sentianalysis-binary-np-csv/yelp_review_sa_binary_csv/train.csv')\n",
    "dataset_test = pd.read_csv('../input/yelp-reviews-for-sentianalysis-binary-np-csv/yelp_review_sa_binary_csv/test.csv')"
   ]
  },
  {
   "cell_type": "markdown",
   "id": "9fa39a6b",
   "metadata": {
    "papermill": {
     "duration": 0.036492,
     "end_time": "2024-04-30T00:05:44.685397",
     "exception": false,
     "start_time": "2024-04-30T00:05:44.648905",
     "status": "completed"
    },
    "tags": []
   },
   "source": [
    "# 4. Shuffeling and splitting the Data"
   ]
  },
  {
   "cell_type": "code",
   "execution_count": 8,
   "id": "755bbf43",
   "metadata": {
    "execution": {
     "iopub.execute_input": "2024-04-30T00:05:44.759684Z",
     "iopub.status.busy": "2024-04-30T00:05:44.759350Z",
     "iopub.status.idle": "2024-04-30T00:05:44.863391Z",
     "shell.execute_reply": "2024-04-30T00:05:44.862567Z"
    },
    "papermill": {
     "duration": 0.143801,
     "end_time": "2024-04-30T00:05:44.865686",
     "exception": false,
     "start_time": "2024-04-30T00:05:44.721885",
     "status": "completed"
    },
    "tags": []
   },
   "outputs": [],
   "source": [
    "# Shuffling Data\n",
    "\n",
    "train = dataset_train.sample(frac=1)\n",
    "test = dataset_test.sample(frac=1)\n",
    "\n",
    "# Taking only a small peice of the dataset to avoid long training time\n",
    "\n",
    "test = dataset_test.iloc[:38000,:]\n",
    "val = dataset_train.iloc[:50000,:]\n",
    "train = dataset_train.iloc[50000:,:]\n",
    "train = dataset_train.iloc[:50000,:]\n",
    "\n",
    "# Splitting data to train and validation sets manually, only including neccessary columns\n",
    "\n",
    "X_train = train['review_text'].values\n",
    "y_train = train['class_index'].values\n",
    "\n",
    "X_val = val['review_text'].values\n",
    "y_val = val['class_index'].values\n",
    "\n",
    "X_test = test['review_text'].values\n",
    "y_test = test['class_index'].values"
   ]
  },
  {
   "cell_type": "markdown",
   "id": "3900f5e3",
   "metadata": {
    "papermill": {
     "duration": 0.036934,
     "end_time": "2024-04-30T00:05:44.939170",
     "exception": false,
     "start_time": "2024-04-30T00:05:44.902236",
     "status": "completed"
    },
    "tags": []
   },
   "source": [
    "# 5. reprocessing and Tokenization"
   ]
  },
  {
   "cell_type": "code",
   "execution_count": 9,
   "id": "c2865454",
   "metadata": {
    "execution": {
     "iopub.execute_input": "2024-04-30T00:05:45.014115Z",
     "iopub.status.busy": "2024-04-30T00:05:45.013748Z",
     "iopub.status.idle": "2024-04-30T00:06:25.444752Z",
     "shell.execute_reply": "2024-04-30T00:06:25.443974Z"
    },
    "papermill": {
     "duration": 40.471733,
     "end_time": "2024-04-30T00:06:25.446965",
     "exception": false,
     "start_time": "2024-04-30T00:05:44.975232",
     "status": "completed"
    },
    "tags": []
   },
   "outputs": [
    {
     "name": "stderr",
     "output_type": "stream",
     "text": [
      "  8%|▊         | 3758/50000 [00:01<00:13, 3311.92it/s]/opt/conda/lib/python3.7/site-packages/bs4/__init__.py:343: MarkupResemblesLocatorWarning: \".\" looks like a directory name, not markup. You may want to open a file found in this directory and pass the filehandle into Beautiful Soup.\n",
      "  MarkupResemblesLocatorWarning\n",
      "100%|██████████| 50000/50000 [00:14<00:00, 3446.19it/s]\n",
      "100%|██████████| 50000/50000 [00:14<00:00, 3446.89it/s]\n",
      "100%|██████████| 38000/38000 [00:11<00:00, 3333.12it/s]"
     ]
    },
    {
     "name": "stdout",
     "output_type": "stream",
     "text": [
      "CPU times: user 40.1 s, sys: 656 ms, total: 40.7 s\n",
      "Wall time: 40.4 s\n"
     ]
    },
    {
     "name": "stderr",
     "output_type": "stream",
     "text": [
      "\n"
     ]
    }
   ],
   "source": [
    "%%time\n",
    "#Pre-processing the Data (the Reviews)\n",
    "\n",
    "X_train = pre_process_corpus(X_train)\n",
    "X_val = pre_process_corpus(X_val)\n",
    "X_test = pre_process_corpus(X_test)"
   ]
  },
  {
   "cell_type": "code",
   "execution_count": 10,
   "id": "8edbb53d",
   "metadata": {
    "execution": {
     "iopub.execute_input": "2024-04-30T00:06:25.833885Z",
     "iopub.status.busy": "2024-04-30T00:06:25.833344Z",
     "iopub.status.idle": "2024-04-30T00:06:31.232095Z",
     "shell.execute_reply": "2024-04-30T00:06:31.231465Z"
    },
    "papermill": {
     "duration": 5.594355,
     "end_time": "2024-04-30T00:06:31.234300",
     "exception": false,
     "start_time": "2024-04-30T00:06:25.639945",
     "status": "completed"
    },
    "tags": []
   },
   "outputs": [],
   "source": [
    "# Tokenazing the Data (the Reviews)\n",
    "\n",
    "t = Tokenizer(oov_token='<UNK>')\n",
    "# fit the tokenizer on train documents\n",
    "t.fit_on_texts(X_train)\n",
    "t.word_index['<PAD>'] = 0"
   ]
  },
  {
   "cell_type": "code",
   "execution_count": 11,
   "id": "3ff5c59d",
   "metadata": {
    "execution": {
     "iopub.execute_input": "2024-04-30T00:06:31.625228Z",
     "iopub.status.busy": "2024-04-30T00:06:31.624949Z",
     "iopub.status.idle": "2024-04-30T00:06:43.126248Z",
     "shell.execute_reply": "2024-04-30T00:06:43.125445Z"
    },
    "papermill": {
     "duration": 11.698889,
     "end_time": "2024-04-30T00:06:43.128598",
     "exception": false,
     "start_time": "2024-04-30T00:06:31.429709",
     "status": "completed"
    },
    "tags": []
   },
   "outputs": [],
   "source": [
    "# Transforming Reviews to Sequences\n",
    "\n",
    "X_train = t.texts_to_sequences(X_train)\n",
    "X_test = t.texts_to_sequences(X_test)\n",
    "X_val = t.texts_to_sequences(X_val)"
   ]
  },
  {
   "cell_type": "markdown",
   "id": "ddc479f4",
   "metadata": {
    "papermill": {
     "duration": 0.191422,
     "end_time": "2024-04-30T00:06:43.514286",
     "exception": false,
     "start_time": "2024-04-30T00:06:43.322864",
     "status": "completed"
    },
    "tags": []
   },
   "source": [
    "# 6. Dataset Visualization"
   ]
  },
  {
   "cell_type": "code",
   "execution_count": 12,
   "id": "5a4bf902",
   "metadata": {
    "execution": {
     "iopub.execute_input": "2024-04-30T00:06:43.904941Z",
     "iopub.status.busy": "2024-04-30T00:06:43.904207Z",
     "iopub.status.idle": "2024-04-30T00:06:43.909289Z",
     "shell.execute_reply": "2024-04-30T00:06:43.908575Z"
    },
    "papermill": {
     "duration": 0.202835,
     "end_time": "2024-04-30T00:06:43.911348",
     "exception": false,
     "start_time": "2024-04-30T00:06:43.708513",
     "status": "completed"
    },
    "tags": []
   },
   "outputs": [
    {
     "name": "stdout",
     "output_type": "stream",
     "text": [
      "Vocabulary size=120075\n",
      "Number of Reviews=50000\n"
     ]
    }
   ],
   "source": [
    "# Calculating the Vocabulary Size and the number of Reviews\n",
    "\n",
    "print(\"Vocabulary size={}\".format(len(t.word_index)))\n",
    "print(\"Number of Reviews={}\".format(t.document_count))"
   ]
  },
  {
   "cell_type": "code",
   "execution_count": 13,
   "id": "412401f1",
   "metadata": {
    "execution": {
     "iopub.execute_input": "2024-04-30T00:06:44.301350Z",
     "iopub.status.busy": "2024-04-30T00:06:44.300675Z",
     "iopub.status.idle": "2024-04-30T00:06:45.086866Z",
     "shell.execute_reply": "2024-04-30T00:06:45.086126Z"
    },
    "papermill": {
     "duration": 0.984107,
     "end_time": "2024-04-30T00:06:45.088969",
     "exception": false,
     "start_time": "2024-04-30T00:06:44.104862",
     "status": "completed"
    },
    "tags": []
   },
   "outputs": [
    {
     "data": {
      "image/png": "[encoded data removed]",
      "text/plain": [
       "<Figure size 864x432 with 2 Axes>"
      ]
     },
     "metadata": {
      "needs_background": "light"
     },
     "output_type": "display_data"
    }
   ],
   "source": [
    "# Plotting the size of the sequences\n",
    "\n",
    "import matplotlib.pyplot as plt\n",
    "%matplotlib inline\n",
    "\n",
    "train_lens = [len(s) for s in X_train]\n",
    "test_lens = [len(s) for s in X_test]\n",
    "\n",
    "fig, ax = plt.subplots(1,2, figsize=(12, 6))\n",
    "h1 = ax[0].hist(train_lens)\n",
    "h2 = ax[1].hist(test_lens)"
   ]
  },
  {
   "cell_type": "markdown",
   "id": "4e0c6afb",
   "metadata": {
    "papermill": {
     "duration": 0.194025,
     "end_time": "2024-04-30T00:06:45.477505",
     "exception": false,
     "start_time": "2024-04-30T00:06:45.283480",
     "status": "completed"
    },
    "tags": []
   },
   "source": [
    "# 7. Sequence Normalization and Encoding Labels"
   ]
  },
  {
   "cell_type": "code",
   "execution_count": 14,
   "id": "73458a66",
   "metadata": {
    "execution": {
     "iopub.execute_input": "2024-04-30T00:06:45.866370Z",
     "iopub.status.busy": "2024-04-30T00:06:45.865800Z",
     "iopub.status.idle": "2024-04-30T00:06:48.069018Z",
     "shell.execute_reply": "2024-04-30T00:06:48.068179Z"
    },
    "papermill": {
     "duration": 2.399369,
     "end_time": "2024-04-30T00:06:48.071284",
     "exception": false,
     "start_time": "2024-04-30T00:06:45.671915",
     "status": "completed"
    },
    "tags": []
   },
   "outputs": [],
   "source": [
    "# Padding the dataset to a maximum review length in words\n",
    "\n",
    "X_train = sequence.pad_sequences(X_train, maxlen=800)\n",
    "X_test = sequence.pad_sequences(X_test, maxlen=800)\n",
    "X_val = sequence.pad_sequences(X_val, maxlen=800)"
   ]
  },
  {
   "cell_type": "code",
   "execution_count": 15,
   "id": "263152cd",
   "metadata": {
    "execution": {
     "iopub.execute_input": "2024-04-30T00:06:48.465590Z",
     "iopub.status.busy": "2024-04-30T00:06:48.465297Z",
     "iopub.status.idle": "2024-04-30T00:06:48.474692Z",
     "shell.execute_reply": "2024-04-30T00:06:48.473987Z"
    },
    "papermill": {
     "duration": 0.208351,
     "end_time": "2024-04-30T00:06:48.476438",
     "exception": false,
     "start_time": "2024-04-30T00:06:48.268087",
     "status": "completed"
    },
    "tags": []
   },
   "outputs": [],
   "source": [
    "# Encoding Labels\n",
    "\n",
    "le = LabelEncoder()\n",
    "num_classes=2 # positive -> 1, negative -> 0\n",
    "\n",
    "y_train = le.fit_transform(y_train)\n",
    "y_test = le.transform(y_test)\n",
    "y_val = le.transform(y_val)"
   ]
  },
  {
   "cell_type": "markdown",
   "id": "0b5a3b8e",
   "metadata": {
    "papermill": {
     "duration": 0.192064,
     "end_time": "2024-04-30T00:06:48.862207",
     "exception": false,
     "start_time": "2024-04-30T00:06:48.670143",
     "status": "completed"
    },
    "tags": []
   },
   "source": [
    "# 8. Model Preparation and Training"
   ]
  },
  {
   "cell_type": "code",
   "execution_count": 16,
   "id": "5f98fb0b",
   "metadata": {
    "execution": {
     "iopub.execute_input": "2024-04-30T00:06:49.253424Z",
     "iopub.status.busy": "2024-04-30T00:06:49.252695Z",
     "iopub.status.idle": "2024-04-30T00:06:49.256832Z",
     "shell.execute_reply": "2024-04-30T00:06:49.256132Z"
    },
    "papermill": {
     "duration": 0.200792,
     "end_time": "2024-04-30T00:06:49.258625",
     "exception": false,
     "start_time": "2024-04-30T00:06:49.057833",
     "status": "completed"
    },
    "tags": []
   },
   "outputs": [],
   "source": [
    "# Hyperparameters of the model\n",
    "\n",
    "EMBEDDING_DIM = 300\n",
    "MAX_SEQUENCE_LENGTH = 800\n",
    "VOCAB_SIZE = len(t.word_index)"
   ]
  },
  {
   "cell_type": "code",
   "execution_count": 17,
   "id": "eb134afe",
   "metadata": {
    "execution": {
     "iopub.execute_input": "2024-04-30T00:06:49.649697Z",
     "iopub.status.busy": "2024-04-30T00:06:49.649400Z",
     "iopub.status.idle": "2024-04-30T00:06:52.569986Z",
     "shell.execute_reply": "2024-04-30T00:06:52.569008Z"
    },
    "papermill": {
     "duration": 3.118989,
     "end_time": "2024-04-30T00:06:52.572035",
     "exception": false,
     "start_time": "2024-04-30T00:06:49.453046",
     "status": "completed"
    },
    "tags": []
   },
   "outputs": [
    {
     "name": "stdout",
     "output_type": "stream",
     "text": [
      "Model: \"sequential\"\n",
      "_________________________________________________________________\n",
      "Layer (type)                 Output Shape              Param #   \n",
      "=================================================================\n",
      "embedding (Embedding)        (None, 800, 300)          36022500  \n",
      "_________________________________________________________________\n",
      "lstm (LSTM)                  (None, 64)                93440     \n",
      "_________________________________________________________________\n",
      "dense (Dense)                (None, 24)                1560      \n",
      "_________________________________________________________________\n",
      "dense_1 (Dense)              (None, 1)                 25        \n",
      "=================================================================\n",
      "Total params: 36,117,525\n",
      "Trainable params: 36,117,525\n",
      "Non-trainable params: 0\n",
      "_________________________________________________________________\n"
     ]
    }
   ],
   "source": [
    "# model initialization\n",
    "model = Sequential()\n",
    "\n",
    "# The Embedding Layer\n",
    "model.add(Embedding(VOCAB_SIZE, EMBEDDING_DIM, input_length=MAX_SEQUENCE_LENGTH))\n",
    "\n",
    "# The LSTM layer (64)\n",
    "model.add(LSTM(64))\n",
    "\n",
    "# The first DEnse layer (24,relu)\n",
    "model.add(Dense(24, activation='relu'))\n",
    "\n",
    "# The first DEnse layer (24,relu)\n",
    "model.add(Dense(1, activation='sigmoid'))\n",
    "\n",
    "# compile model\n",
    "model.compile(loss='BinaryCrossentropy',\n",
    "              optimizer=tf.keras.optimizers.Adam(1e-4), \n",
    "              metrics=['accuracy'])\n",
    "\n",
    "# model summary\n",
    "model.summary()"
   ]
  },
  {
   "cell_type": "code",
   "execution_count": 18,
   "id": "17db23de",
   "metadata": {
    "execution": {
     "iopub.execute_input": "2024-04-30T00:06:52.983618Z",
     "iopub.status.busy": "2024-04-30T00:06:52.982565Z",
     "iopub.status.idle": "2024-04-30T00:17:57.325848Z",
     "shell.execute_reply": "2024-04-30T00:17:57.325114Z"
    },
    "papermill": {
     "duration": 664.561969,
     "end_time": "2024-04-30T00:17:57.328145",
     "exception": false,
     "start_time": "2024-04-30T00:06:52.766176",
     "status": "completed"
    },
    "tags": []
   },
   "outputs": [
    {
     "name": "stdout",
     "output_type": "stream",
     "text": [
      "Epoch 1/10\n",
      "1563/1563 [==============================] - 70s 42ms/step - loss: 0.3645 - accuracy: 0.8382 - val_loss: 0.1704 - val_accuracy: 0.9394\n",
      "Epoch 2/10\n",
      "1563/1563 [==============================] - 65s 42ms/step - loss: 0.1636 - accuracy: 0.9397 - val_loss: 0.1063 - val_accuracy: 0.9658\n",
      "Epoch 3/10\n",
      "1563/1563 [==============================] - 66s 42ms/step - loss: 0.1138 - accuracy: 0.9597 - val_loss: 0.0713 - val_accuracy: 0.9771\n",
      "Epoch 4/10\n",
      "1563/1563 [==============================] - 66s 42ms/step - loss: 0.0811 - accuracy: 0.9723 - val_loss: 0.0534 - val_accuracy: 0.9838\n",
      "Epoch 5/10\n",
      "1563/1563 [==============================] - 66s 42ms/step - loss: 0.0594 - accuracy: 0.9804 - val_loss: 0.0458 - val_accuracy: 0.9865\n",
      "Epoch 6/10\n",
      "1563/1563 [==============================] - 66s 42ms/step - loss: 0.0460 - accuracy: 0.9849 - val_loss: 0.0427 - val_accuracy: 0.9870\n",
      "Epoch 7/10\n",
      "1563/1563 [==============================] - 66s 42ms/step - loss: 0.0384 - accuracy: 0.9875 - val_loss: 0.0246 - val_accuracy: 0.9935\n",
      "Epoch 8/10\n",
      "1563/1563 [==============================] - 66s 42ms/step - loss: 0.0283 - accuracy: 0.9914 - val_loss: 0.0215 - val_accuracy: 0.9934\n",
      "Epoch 9/10\n",
      "1563/1563 [==============================] - 66s 42ms/step - loss: 0.0274 - accuracy: 0.9915 - val_loss: 0.0217 - val_accuracy: 0.9935\n",
      "Epoch 10/10\n",
      "1563/1563 [==============================] - 66s 42ms/step - loss: 0.0174 - accuracy: 0.9947 - val_loss: 0.0112 - val_accuracy: 0.9968\n"
     ]
    }
   ],
   "source": [
    "# Training the Model with GPU\n",
    "with tf.device('/GPU:0'):\n",
    "    history1 = model.fit(X_train, y_train,validation_data=(X_val,y_val), epochs=10, validation_steps=30, verbose=1)"
   ]
  },
  {
   "cell_type": "markdown",
   "id": "4de471ff",
   "metadata": {
    "papermill": {
     "duration": 3.492622,
     "end_time": "2024-04-30T00:18:04.339664",
     "exception": false,
     "start_time": "2024-04-30T00:18:00.847042",
     "status": "completed"
    },
    "tags": []
   },
   "source": [
    "# 9. Visualizing and Evaluating the Results"
   ]
  },
  {
   "cell_type": "code",
   "execution_count": 19,
   "id": "b0e06694",
   "metadata": {
    "execution": {
     "iopub.execute_input": "2024-04-30T00:18:11.322781Z",
     "iopub.status.busy": "2024-04-30T00:18:11.322048Z",
     "iopub.status.idle": "2024-04-30T00:18:11.744928Z",
     "shell.execute_reply": "2024-04-30T00:18:11.744038Z"
    },
    "papermill": {
     "duration": 3.911193,
     "end_time": "2024-04-30T00:18:11.747074",
     "exception": false,
     "start_time": "2024-04-30T00:18:07.835881",
     "status": "completed"
    },
    "tags": []
   },
   "outputs": [
    {
     "data": {
      "image/png": "[encoded data removed]",
      "text/plain": [
       "<Figure size 1440x360 with 2 Axes>"
      ]
     },
     "metadata": {
      "needs_background": "light"
     },
     "output_type": "display_data"
    }
   ],
   "source": [
    "#Accuracy / Validation_Accuracy  and Loss / Validation_Loss Plot\n",
    "plot_performance(history=history1)"
   ]
  },
  {
   "cell_type": "code",
   "execution_count": 20,
   "id": "054fa818",
   "metadata": {
    "execution": {
     "iopub.execute_input": "2024-04-30T00:18:18.760469Z",
     "iopub.status.busy": "2024-04-30T00:18:18.760180Z",
     "iopub.status.idle": "2024-04-30T00:18:34.831095Z",
     "shell.execute_reply": "2024-04-30T00:18:34.830167Z"
    },
    "papermill": {
     "duration": 19.559459,
     "end_time": "2024-04-30T00:18:34.833147",
     "exception": false,
     "start_time": "2024-04-30T00:18:15.273688",
     "status": "completed"
    },
    "tags": []
   },
   "outputs": [
    {
     "name": "stdout",
     "output_type": "stream",
     "text": [
      "1188/1188 [==============================] - 16s 13ms/step - loss: 0.4887 - accuracy: 0.9027\n",
      "Accuracy: 90.27%\n"
     ]
    }
   ],
   "source": [
    "# Final evaluation of the model\n",
    "\n",
    "scores = model.evaluate(X_test, y_test, verbose=1)\n",
    "print(\"Accuracy: %.2f%%\" % (scores[1]*100))"
   ]
  },
  {
   "cell_type": "markdown",
   "id": "008d786f",
   "metadata": {
    "papermill": {
     "duration": 3.565982,
     "end_time": "2024-04-30T00:18:41.922273",
     "exception": false,
     "start_time": "2024-04-30T00:18:38.356291",
     "status": "completed"
    },
    "tags": []
   },
   "source": [
    "# 10. Saving the model"
   ]
  },
  {
   "cell_type": "code",
   "execution_count": 21,
   "id": "ecb2c8cc",
   "metadata": {
    "execution": {
     "iopub.execute_input": "2024-04-30T00:18:49.014463Z",
     "iopub.status.busy": "2024-04-30T00:18:49.014153Z",
     "iopub.status.idle": "2024-04-30T00:18:49.936597Z",
     "shell.execute_reply": "2024-04-30T00:18:49.935826Z"
    },
    "papermill": {
     "duration": 4.512127,
     "end_time": "2024-04-30T00:18:49.938897",
     "exception": false,
     "start_time": "2024-04-30T00:18:45.426770",
     "status": "completed"
    },
    "tags": []
   },
   "outputs": [],
   "source": [
    "model.save('Binary_Classification_90_Yelp_Reviews_LSTM.h5')"
   ]
  },
  {
   "cell_type": "code",
   "execution_count": 22,
   "id": "7e4a9e92",
   "metadata": {
    "execution": {
     "iopub.execute_input": "2024-04-30T00:18:57.456626Z",
     "iopub.status.busy": "2024-04-30T00:18:57.456008Z",
     "iopub.status.idle": "2024-04-30T00:18:58.220843Z",
     "shell.execute_reply": "2024-04-30T00:18:58.219990Z"
    },
    "papermill": {
     "duration": 4.597939,
     "end_time": "2024-04-30T00:18:58.222979",
     "exception": false,
     "start_time": "2024-04-30T00:18:53.625040",
     "status": "completed"
    },
    "tags": []
   },
   "outputs": [
    {
     "name": "stdout",
     "output_type": "stream",
     "text": [
      "[[0.954191]] [[0.12404316]]\n"
     ]
    }
   ],
   "source": [
    "print(\n",
    "model.predict(t.texts_to_sequences([\"I love pinaples\"])),\n",
    "model.predict(t.texts_to_sequences([\"I hate this movie\"])),\n",
    ")"
   ]
  }
 ],
 "metadata": {
  "kaggle": {
   "accelerator": "gpu",
   "dataSources": [
    {
     "datasetId": 2078159,
     "sourceId": 3603961,
     "sourceType": "datasetVersion"
    }
   ],
   "dockerImageVersionId": 30192,
   "isGpuEnabled": true,
   "isInternetEnabled": true,
   "language": "python",
   "sourceType": "notebook"
  },
  "kernelspec": {
   "display_name": "Python 3",
   "language": "python",
   "name": "python3"
  },
  "language_info": {
   "codemirror_mode": {
    "name": "ipython",
    "version": 3
   },
   "file_extension": ".py",
   "mimetype": "text/x-python",
   "name": "python",
   "nbconvert_exporter": "python",
   "pygments_lexer": "ipython3",
   "version": "3.7.12"
  },
  "papermill": {
   "default_parameters": {},
   "duration": 859.972726,
   "end_time": "2024-04-30T00:19:05.516638",
   "environment_variables": {},
   "exception": null,
   "input_path": "__notebook__.ipynb",
   "output_path": "__notebook__.ipynb",
   "parameters": {},
   "start_time": "2024-04-30T00:04:45.543912",
   "version": "2.3.4"
  }
 },
 "nbformat": 4,
 "nbformat_minor": 5
}
